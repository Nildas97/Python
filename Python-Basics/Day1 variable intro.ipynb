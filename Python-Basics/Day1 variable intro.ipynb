{
 "cells": [
  {
   "attachments": {
    "python-logo.png": {
     "image/png": "[encoded data removed]"
    }
   },
   "cell_type": "markdown",
   "id": "a883e372",
   "metadata": {},
   "source": [
    "![python-logo.png](attachment:python-logo.png)"
   ]
  },
  {
   "cell_type": "markdown",
   "id": "abaead46",
   "metadata": {},
   "source": [
    "# Python Basic Day 1"
   ]
  },
  {
   "cell_type": "markdown",
   "id": "937af4d3",
   "metadata": {},
   "source": [
    "# variable"
   ]
  },
  {
   "cell_type": "markdown",
   "id": "06bafa8c",
   "metadata": {},
   "source": [
    "### a variable which stores data in it.<br> \n",
    "### example: \"a\" variable stores data as 10"
   ]
  },
  {
   "cell_type": "code",
   "execution_count": 5,
   "id": "29b0ad1c",
   "metadata": {},
   "outputs": [
    {
     "data": {
      "text/plain": [
       "8"
      ]
     },
     "execution_count": 5,
     "metadata": {},
     "output_type": "execute_result"
    }
   ],
   "source": [
    "a = 10\n",
    "a - 2"
   ]
  },
  {
   "cell_type": "markdown",
   "id": "875067f1",
   "metadata": {},
   "source": [
    "### here the value of a gets reassigned as 10 and now it starts again."
   ]
  },
  {
   "cell_type": "code",
   "execution_count": 10,
   "id": "bfee72ee",
   "metadata": {},
   "outputs": [
    {
     "data": {
      "text/plain": [
       "10"
      ]
     },
     "execution_count": 10,
     "metadata": {},
     "output_type": "execute_result"
    }
   ],
   "source": [
    "a - 2\n",
    "a"
   ]
  },
  {
   "cell_type": "code",
   "execution_count": 11,
   "id": "c400c8e0",
   "metadata": {},
   "outputs": [
    {
     "data": {
      "text/plain": [
       "int"
      ]
     },
     "execution_count": 11,
     "metadata": {},
     "output_type": "execute_result"
    }
   ],
   "source": [
    "type(a)"
   ]
  },
  {
   "cell_type": "markdown",
   "id": "e99256c5",
   "metadata": {},
   "source": [
    "### now the value of \"a\" is int datatype."
   ]
  },
  {
   "cell_type": "markdown",
   "id": "8f6061f5",
   "metadata": {},
   "source": [
    "### variable stores data.<br> type() function is used to check the data type of the variable."
   ]
  },
  {
   "cell_type": "code",
   "execution_count": 13,
   "id": "42c087ab",
   "metadata": {},
   "outputs": [
    {
     "data": {
      "text/plain": [
       "23.23"
      ]
     },
     "execution_count": 13,
     "metadata": {},
     "output_type": "execute_result"
    }
   ],
   "source": [
    "a = 23.23\n",
    "a"
   ]
  },
  {
   "cell_type": "code",
   "execution_count": 14,
   "id": "2886d9fd",
   "metadata": {},
   "outputs": [
    {
     "data": {
      "text/plain": [
       "float"
      ]
     },
     "execution_count": 14,
     "metadata": {},
     "output_type": "execute_result"
    }
   ],
   "source": [
    "type(a)"
   ]
  },
  {
   "cell_type": "markdown",
   "id": "5544a6b3",
   "metadata": {},
   "source": [
    "### now the value of \"a\" is float datatype."
   ]
  },
  {
   "cell_type": "code",
   "execution_count": 15,
   "id": "c6cf7f3a",
   "metadata": {},
   "outputs": [
    {
     "data": {
      "text/plain": [
       "'my name is nilutpal das'"
      ]
     },
     "execution_count": 15,
     "metadata": {},
     "output_type": "execute_result"
    }
   ],
   "source": [
    "a = \"my name is nilutpal das\"\n",
    "a"
   ]
  },
  {
   "cell_type": "code",
   "execution_count": 19,
   "id": "addb5ffb",
   "metadata": {},
   "outputs": [
    {
     "data": {
      "text/plain": [
       "'my name is nilutpal das'"
      ]
     },
     "execution_count": 19,
     "metadata": {},
     "output_type": "execute_result"
    }
   ],
   "source": [
    "a = 'my name is nilutpal das'\n",
    "a"
   ]
  },
  {
   "cell_type": "code",
   "execution_count": 20,
   "id": "3e6b7954",
   "metadata": {},
   "outputs": [
    {
     "data": {
      "text/plain": [
       "str"
      ]
     },
     "execution_count": 20,
     "metadata": {},
     "output_type": "execute_result"
    }
   ],
   "source": [
    "type(a)"
   ]
  },
  {
   "cell_type": "markdown",
   "id": "d07d82a8",
   "metadata": {},
   "source": [
    "### string can be used in both single inverted comma or double inverted comma."
   ]
  },
  {
   "cell_type": "code",
   "execution_count": 16,
   "id": "bb83374c",
   "metadata": {},
   "outputs": [
    {
     "data": {
      "text/plain": [
       "str"
      ]
     },
     "execution_count": 16,
     "metadata": {},
     "output_type": "execute_result"
    }
   ],
   "source": [
    "type(a)"
   ]
  },
  {
   "cell_type": "markdown",
   "id": "8f3a53b0",
   "metadata": {},
   "source": [
    "### now the value of \"a\" is string datatype."
   ]
  },
  {
   "cell_type": "code",
   "execution_count": 17,
   "id": "d6af95b1",
   "metadata": {},
   "outputs": [
    {
     "data": {
      "text/plain": [
       "True"
      ]
     },
     "execution_count": 17,
     "metadata": {},
     "output_type": "execute_result"
    }
   ],
   "source": [
    "a = True\n",
    "a"
   ]
  },
  {
   "cell_type": "code",
   "execution_count": 18,
   "id": "062a2775",
   "metadata": {},
   "outputs": [
    {
     "data": {
      "text/plain": [
       "bool"
      ]
     },
     "execution_count": 18,
     "metadata": {},
     "output_type": "execute_result"
    }
   ],
   "source": [
    "type(a)"
   ]
  },
  {
   "cell_type": "markdown",
   "id": "e3208ffe",
   "metadata": {},
   "source": [
    "### now the value of \"a\" is boolean datatype."
   ]
  },
  {
   "cell_type": "code",
   "execution_count": 22,
   "id": "436c6dee",
   "metadata": {},
   "outputs": [
    {
     "data": {
      "text/plain": [
       "1"
      ]
     },
     "execution_count": 22,
     "metadata": {},
     "output_type": "execute_result"
    }
   ],
   "source": [
    "True - False"
   ]
  },
  {
   "cell_type": "markdown",
   "id": "b9d5fa1d",
   "metadata": {},
   "source": [
    "### In boolean True means 1 and False means 0, according to boolean 1 - 0 = 1. "
   ]
  },
  {
   "cell_type": "code",
   "execution_count": 23,
   "id": "e19b5ce0",
   "metadata": {},
   "outputs": [
    {
     "data": {
      "text/plain": [
       "0"
      ]
     },
     "execution_count": 23,
     "metadata": {},
     "output_type": "execute_result"
    }
   ],
   "source": [
    "True - True"
   ]
  },
  {
   "cell_type": "code",
   "execution_count": 24,
   "id": "ddbc8a3f",
   "metadata": {},
   "outputs": [
    {
     "data": {
      "text/plain": [
       "0"
      ]
     },
     "execution_count": 24,
     "metadata": {},
     "output_type": "execute_result"
    }
   ],
   "source": [
    "False - False"
   ]
  },
  {
   "cell_type": "code",
   "execution_count": 25,
   "id": "2c06f327",
   "metadata": {},
   "outputs": [
    {
     "data": {
      "text/plain": [
       "-1"
      ]
     },
     "execution_count": 25,
     "metadata": {},
     "output_type": "execute_result"
    }
   ],
   "source": [
    "False - True"
   ]
  },
  {
   "cell_type": "code",
   "execution_count": 26,
   "id": "0a064d25",
   "metadata": {},
   "outputs": [
    {
     "ename": "ZeroDivisionError",
     "evalue": "division by zero",
     "output_type": "error",
     "traceback": [
      "\u001b[1;31m---------------------------------------------------------------------------\u001b[0m",
      "\u001b[1;31mZeroDivisionError\u001b[0m                         Traceback (most recent call last)",
      "\u001b[1;32m~\\AppData\\Local\\Temp/ipykernel_21040/3067763051.py\u001b[0m in \u001b[0;36m<module>\u001b[1;34m\u001b[0m\n\u001b[1;32m----> 1\u001b[1;33m \u001b[1;32mTrue\u001b[0m \u001b[1;33m/\u001b[0m \u001b[1;32mFalse\u001b[0m\u001b[1;33m\u001b[0m\u001b[1;33m\u001b[0m\u001b[0m\n\u001b[0m",
      "\u001b[1;31mZeroDivisionError\u001b[0m: division by zero"
     ]
    }
   ],
   "source": [
    " True / False"
   ]
  },
  {
   "cell_type": "markdown",
   "id": "d99ae62e",
   "metadata": {},
   "source": [
    "### 1/0 = it will show error, as it is not able to divide it."
   ]
  },
  {
   "cell_type": "code",
   "execution_count": 27,
   "id": "646367e8",
   "metadata": {},
   "outputs": [
    {
     "data": {
      "text/plain": [
       "0.0"
      ]
     },
     "execution_count": 27,
     "metadata": {},
     "output_type": "execute_result"
    }
   ],
   "source": [
    "False / True"
   ]
  },
  {
   "cell_type": "code",
   "execution_count": 28,
   "id": "fc845b4a",
   "metadata": {},
   "outputs": [
    {
     "data": {
      "text/plain": [
       "1"
      ]
     },
     "execution_count": 28,
     "metadata": {},
     "output_type": "execute_result"
    }
   ],
   "source": [
    "True * True"
   ]
  },
  {
   "cell_type": "code",
   "execution_count": 29,
   "id": "0d94cdf1",
   "metadata": {},
   "outputs": [
    {
     "data": {
      "text/plain": [
       "0"
      ]
     },
     "execution_count": 29,
     "metadata": {},
     "output_type": "execute_result"
    }
   ],
   "source": [
    "False * False"
   ]
  },
  {
   "cell_type": "code",
   "execution_count": 35,
   "id": "11d01c8a",
   "metadata": {},
   "outputs": [],
   "source": [
    "n = 4-2j"
   ]
  },
  {
   "cell_type": "markdown",
   "id": "2de73099",
   "metadata": {},
   "source": [
    "### here \"j\" is an imaginary number."
   ]
  },
  {
   "cell_type": "code",
   "execution_count": 36,
   "id": "b24919f8",
   "metadata": {},
   "outputs": [
    {
     "data": {
      "text/plain": [
       "complex"
      ]
     },
     "execution_count": 36,
     "metadata": {},
     "output_type": "execute_result"
    }
   ],
   "source": [
    "type(n)"
   ]
  },
  {
   "cell_type": "markdown",
   "id": "2f6974fe",
   "metadata": {},
   "source": [
    "### real + imaginary = complex"
   ]
  },
  {
   "cell_type": "code",
   "execution_count": 37,
   "id": "5dd5b00f",
   "metadata": {},
   "outputs": [
    {
     "data": {
      "text/plain": [
       "(8-4j)"
      ]
     },
     "execution_count": 37,
     "metadata": {},
     "output_type": "execute_result"
    }
   ],
   "source": [
    "n+n"
   ]
  },
  {
   "cell_type": "code",
   "execution_count": 39,
   "id": "7f246202",
   "metadata": {},
   "outputs": [
    {
     "data": {
      "text/plain": [
       "(8-4j)"
      ]
     },
     "execution_count": 39,
     "metadata": {},
     "output_type": "execute_result"
    }
   ],
   "source": [
    "n+n"
   ]
  },
  {
   "cell_type": "markdown",
   "id": "bb3f4a9b",
   "metadata": {},
   "source": [
    "### seperating real and imaginary numbers"
   ]
  },
  {
   "cell_type": "code",
   "execution_count": 40,
   "id": "dd4a7609",
   "metadata": {},
   "outputs": [
    {
     "data": {
      "text/plain": [
       "<function complex.conjugate>"
      ]
     },
     "execution_count": 40,
     "metadata": {},
     "output_type": "execute_result"
    }
   ],
   "source": [
    "n.conjugate"
   ]
  },
  {
   "cell_type": "code",
   "execution_count": 41,
   "id": "6f90f4c2",
   "metadata": {},
   "outputs": [
    {
     "data": {
      "text/plain": [
       "-2.0"
      ]
     },
     "execution_count": 41,
     "metadata": {},
     "output_type": "execute_result"
    }
   ],
   "source": [
    "n.imag"
   ]
  },
  {
   "cell_type": "code",
   "execution_count": 42,
   "id": "d83e1329",
   "metadata": {},
   "outputs": [
    {
     "data": {
      "text/plain": [
       "4.0"
      ]
     },
     "execution_count": 42,
     "metadata": {},
     "output_type": "execute_result"
    }
   ],
   "source": [
    "n.real"
   ]
  },
  {
   "cell_type": "markdown",
   "id": "eda07d53",
   "metadata": {},
   "source": [
    "### list"
   ]
  },
  {
   "cell_type": "code",
   "execution_count": 43,
   "id": "b7f331c2",
   "metadata": {},
   "outputs": [
    {
     "data": {
      "text/plain": [
       "[1, 2, 3, 4, 5, 6, 'nildas', 12.2]"
      ]
     },
     "execution_count": 43,
     "metadata": {},
     "output_type": "execute_result"
    }
   ],
   "source": [
    "l = [1,2,3,4,5,6,\"nildas\",12.2]\n",
    "l"
   ]
  },
  {
   "cell_type": "code",
   "execution_count": 44,
   "id": "efbe6b0c",
   "metadata": {},
   "outputs": [
    {
     "data": {
      "text/plain": [
       "8"
      ]
     },
     "execution_count": 44,
     "metadata": {},
     "output_type": "execute_result"
    }
   ],
   "source": [
    "len(l)"
   ]
  },
  {
   "cell_type": "code",
   "execution_count": 45,
   "id": "69c04262",
   "metadata": {},
   "outputs": [
    {
     "data": {
      "text/plain": [
       "list"
      ]
     },
     "execution_count": 45,
     "metadata": {},
     "output_type": "execute_result"
    }
   ],
   "source": [
    "type(l)"
   ]
  },
  {
   "cell_type": "markdown",
   "id": "14a5e5b3",
   "metadata": {},
   "source": [
    "### calling indexes for getting the data"
   ]
  },
  {
   "cell_type": "code",
   "execution_count": 48,
   "id": "a5bd8e9b",
   "metadata": {},
   "outputs": [
    {
     "data": {
      "text/plain": [
       "2"
      ]
     },
     "execution_count": 48,
     "metadata": {},
     "output_type": "execute_result"
    }
   ],
   "source": [
    "l[1]"
   ]
  },
  {
   "cell_type": "markdown",
   "id": "3c54e652",
   "metadata": {},
   "source": [
    "### in list, there are forward indexing and backward indexing"
   ]
  },
  {
   "cell_type": "markdown",
   "id": "c5de1224",
   "metadata": {},
   "source": [
    "### forwarding indexing"
   ]
  },
  {
   "cell_type": "code",
   "execution_count": 55,
   "id": "cca029d7",
   "metadata": {},
   "outputs": [
    {
     "data": {
      "text/plain": [
       "12.2"
      ]
     },
     "execution_count": 55,
     "metadata": {},
     "output_type": "execute_result"
    }
   ],
   "source": [
    "l[7]"
   ]
  },
  {
   "cell_type": "markdown",
   "id": "40238c46",
   "metadata": {},
   "source": [
    "### backward indexing"
   ]
  },
  {
   "cell_type": "code",
   "execution_count": 56,
   "id": "c9362aae",
   "metadata": {},
   "outputs": [
    {
     "data": {
      "text/plain": [
       "12.2"
      ]
     },
     "execution_count": 56,
     "metadata": {},
     "output_type": "execute_result"
    }
   ],
   "source": [
    "l[-1]"
   ]
  },
  {
   "cell_type": "markdown",
   "id": "a5bff44d",
   "metadata": {},
   "source": [
    "### tuple"
   ]
  },
  {
   "cell_type": "code",
   "execution_count": 58,
   "id": "65b6167e",
   "metadata": {},
   "outputs": [
    {
     "data": {
      "text/plain": [
       "(1, 2, 3, 4, 5, 6, 'nildas', 12.2)"
      ]
     },
     "execution_count": 58,
     "metadata": {},
     "output_type": "execute_result"
    }
   ],
   "source": [
    "t = (1,2,3,4,5,6,\"nildas\", 12.2)\n",
    "t"
   ]
  },
  {
   "cell_type": "code",
   "execution_count": 59,
   "id": "6898dfb4",
   "metadata": {},
   "outputs": [
    {
     "data": {
      "text/plain": [
       "tuple"
      ]
     },
     "execution_count": 59,
     "metadata": {},
     "output_type": "execute_result"
    }
   ],
   "source": [
    "type(t)"
   ]
  },
  {
   "cell_type": "markdown",
   "id": "42ad8e7f",
   "metadata": {},
   "source": [
    "# difference between list and tuple<br>\n",
    "### 1. square bracket for list and normal bracket for tuple.\n",
    "### 2. mutability and immutability."
   ]
  },
  {
   "cell_type": "markdown",
   "id": "6cfd428b",
   "metadata": {},
   "source": [
    "### dictionary"
   ]
  },
  {
   "cell_type": "code",
   "execution_count": 60,
   "id": "eb5d1c6e",
   "metadata": {},
   "outputs": [
    {
     "data": {
      "text/plain": [
       "{'name': 'nildas', 'job': 'data scientists'}"
      ]
     },
     "execution_count": 60,
     "metadata": {},
     "output_type": "execute_result"
    }
   ],
   "source": [
    "d = {'name': 'nildas', 'job': 'data scientists'}\n",
    "d"
   ]
  },
  {
   "cell_type": "code",
   "execution_count": 61,
   "id": "8fb365b1",
   "metadata": {},
   "outputs": [
    {
     "data": {
      "text/plain": [
       "dict"
      ]
     },
     "execution_count": 61,
     "metadata": {},
     "output_type": "execute_result"
    }
   ],
   "source": [
    "type(d)"
   ]
  },
  {
   "cell_type": "markdown",
   "id": "afc030b7",
   "metadata": {},
   "source": [
    "## our objective is to hold a data into a variable, when required we are able to process it."
   ]
  }
 ],
 "metadata": {
  "kernelspec": {
   "display_name": "Python 3 (ipykernel)",
   "language": "python",
   "name": "python3"
  },
  "language_info": {
   "codemirror_mode": {
    "name": "ipython",
    "version": 3
   },
   "file_extension": ".py",
   "mimetype": "text/x-python",
   "name": "python",
   "nbconvert_exporter": "python",
   "pygments_lexer": "ipython3",
   "version": "3.8.8"
  }
 },
 "nbformat": 4,
 "nbformat_minor": 5
}
