{
 "cells": [
  {
   "cell_type": "raw",
   "id": "adfffd24",
   "metadata": {},
   "source": [
    "1A. Create a string made of the first, middle and last character"
   ]
  },
  {
   "cell_type": "code",
   "execution_count": 1,
   "id": "99aae091",
   "metadata": {},
   "outputs": [
    {
     "name": "stdout",
     "output_type": "stream",
     "text": [
      "jms\n"
     ]
    }
   ],
   "source": [
    "str1 = \"james\"\n",
    "\n",
    "str = (str1[0] + str1[2] + str1[4])\n",
    "print(str)"
   ]
  },
  {
   "cell_type": "code",
   "execution_count": 2,
   "id": "a4d0ee55",
   "metadata": {},
   "outputs": [
    {
     "name": "stdout",
     "output_type": "stream",
     "text": [
      "Original String is James\n",
      "New String: Jms\n"
     ]
    }
   ],
   "source": [
    "str1 = 'James'\n",
    "print(\"Original String is\", str1)\n",
    "\n",
    "# Get first character\n",
    "res = str1[0]\n",
    "# Get string size\n",
    "l = len(str1)\n",
    "# Get middle index number\n",
    "mi = int(l / 2)\n",
    "# Get middle character and add it to result\n",
    "res = res + str1[mi]\n",
    "\n",
    "# Get last character and add it to result\n",
    "res = res + str1[l - 1]\n",
    "\n",
    "print(\"New String:\", res)"
   ]
  },
  {
   "cell_type": "raw",
   "id": "2d12b176",
   "metadata": {},
   "source": [
    "1B. Create a string made of the middle three characters"
   ]
  },
  {
   "cell_type": "code",
   "execution_count": 3,
   "id": "77371b59",
   "metadata": {
    "scrolled": true
   },
   "outputs": [
    {
     "name": "stdout",
     "output_type": "stream",
     "text": [
      "Dip\n"
     ]
    }
   ],
   "source": [
    "str1 = \"JhonDipPeta\"\n",
    "\n",
    "l = len(str1)\n",
    "\n",
    "middle = int(l/2)\n",
    "\n",
    "\n",
    "print(str1[4:7])"
   ]
  },
  {
   "cell_type": "code",
   "execution_count": 4,
   "id": "02d70f7f",
   "metadata": {},
   "outputs": [
    {
     "name": "stdout",
     "output_type": "stream",
     "text": [
      "Son\n"
     ]
    }
   ],
   "source": [
    "str2 = \"JaSonAy\"\n",
    "\n",
    "l = len(str2)\n",
    "\n",
    "middle = int(l/2)\n",
    "\n",
    "result = str2[middle - 1:middle + 2]\n",
    "print(result)"
   ]
  },
  {
   "cell_type": "code",
   "execution_count": 5,
   "id": "fc43997a",
   "metadata": {},
   "outputs": [
    {
     "name": "stdout",
     "output_type": "stream",
     "text": [
      "Original String is JhonDipPeta\n",
      "Middle three chars are: Dip\n",
      "Original String is JaSonAy\n",
      "Middle three chars are: Son\n"
     ]
    }
   ],
   "source": [
    "def get_middle_three_chars(str1):\n",
    "    print(\"Original String is\", str1)\n",
    "\n",
    "    # first get middle index number\n",
    "    mi = int(len(str1) / 2)\n",
    "\n",
    "    # use string slicing to get result characters\n",
    "    res = str1[mi - 1:mi + 2]\n",
    "    print(\"Middle three chars are:\", res)\n",
    "\n",
    "get_middle_three_chars(\"JhonDipPeta\")\n",
    "get_middle_three_chars(\"JaSonAy\")"
   ]
  },
  {
   "cell_type": "raw",
   "id": "ab3d4b8a",
   "metadata": {},
   "source": [
    "2. Append new string in the middle of a given string"
   ]
  },
  {
   "cell_type": "code",
   "execution_count": 6,
   "id": "9afdf03f",
   "metadata": {},
   "outputs": [],
   "source": [
    "s1 = \"Ault\"\n",
    "s2 = \"Kelly\""
   ]
  },
  {
   "cell_type": "code",
   "execution_count": 7,
   "id": "287457ef",
   "metadata": {},
   "outputs": [
    {
     "name": "stdout",
     "output_type": "stream",
     "text": [
      "AuKellylt\n"
     ]
    }
   ],
   "source": [
    "l = len(s1)\n",
    "\n",
    "middle = int(l/2)\n",
    "\n",
    "x = s1[:middle:]\n",
    "\n",
    "x = x + s2\n",
    "\n",
    "x = x + s1[middle:]\n",
    "print(x)"
   ]
  },
  {
   "cell_type": "code",
   "execution_count": 8,
   "id": "33593528",
   "metadata": {},
   "outputs": [
    {
     "name": "stdout",
     "output_type": "stream",
     "text": [
      "Original Strings are Ault Kelly\n",
      "After appending new string in middle: AuKellylt\n"
     ]
    }
   ],
   "source": [
    "def append_middle(s1, s2):\n",
    "    print(\"Original Strings are\", s1, s2)\n",
    "\n",
    "    # middle index number of s1\n",
    "    mi = int(len(s1) / 2)\n",
    "\n",
    "    # get character from 0 to the middle index number from s1\n",
    "    x = s1[:mi:]\n",
    "    # concatenate s2 to it\n",
    "    x = x + s2\n",
    "    # append remaining character from s1\n",
    "    x = x + s1[mi:]\n",
    "    print(\"After appending new string in middle:\", x)\n",
    "\n",
    "append_middle(\"Ault\", \"Kelly\")"
   ]
  },
  {
   "cell_type": "raw",
   "id": "7de58753",
   "metadata": {},
   "source": [
    "3. Create a new string made of the first, middle, and last characters of each input string"
   ]
  },
  {
   "cell_type": "code",
   "execution_count": 9,
   "id": "55204410",
   "metadata": {},
   "outputs": [],
   "source": [
    "s1 = \"America\"\n",
    "s2 = \"Japan\""
   ]
  },
  {
   "cell_type": "code",
   "execution_count": 10,
   "id": "35e8b239",
   "metadata": {},
   "outputs": [
    {
     "name": "stdout",
     "output_type": "stream",
     "text": [
      "AJ\n",
      "rp\n",
      "an\n",
      "Mix String is  AJrpan\n"
     ]
    }
   ],
   "source": [
    "def mix_string(s1, s2):\n",
    "    # get first character from both string\n",
    "    first_char = s1[0] + s2[0]\n",
    "    print(first_char)\n",
    "    # get middle character from both string\n",
    "    middle_char = s1[int(len(s1) / 2):int(len(s1) / 2) + 1] + s2[int(len(s2) / 2):int(len(s2) / 2) + 1]\n",
    "    print(middle_char)\n",
    "    # get last character from both string\n",
    "    last_char = s1[len(s1) - 1] + s2[len(s2) - 1]\n",
    "    print(last_char)\n",
    "    # add all\n",
    "    res = first_char + middle_char + last_char\n",
    "    print(\"Mix String is \", res)\n",
    "\n",
    "s1 = \"America\"\n",
    "s2 = \"Japan\"\n",
    "mix_string(s1, s2)"
   ]
  },
  {
   "cell_type": "raw",
   "id": "c3ca4081",
   "metadata": {},
   "source": [
    "4. Arrange string characters such that lowercase letters should come first"
   ]
  },
  {
   "cell_type": "code",
   "execution_count": 11,
   "id": "ba249be8",
   "metadata": {},
   "outputs": [
    {
     "name": "stdout",
     "output_type": "stream",
     "text": [
      "original string  PyNaTive\n",
      "result  yaivePNT\n"
     ]
    }
   ],
   "source": [
    "str1 = \"PyNaTive\"\n",
    "\n",
    "print(\"original string \", str1)\n",
    "\n",
    "lower = []\n",
    "upper = []\n",
    "\n",
    "for i in str1:\n",
    "    if i.islower():\n",
    "        lower.append(i)\n",
    "    else:\n",
    "        upper.append(i)\n",
    "        \n",
    "sorted_string = ''.join(lower + upper)\n",
    "print(\"result \", sorted_string)"
   ]
  },
  {
   "cell_type": "raw",
   "id": "ed7f32f2",
   "metadata": {},
   "source": [
    "5. Count all letters, digits, and special symbols from a given string"
   ]
  },
  {
   "cell_type": "code",
   "execution_count": 12,
   "id": "194b4333",
   "metadata": {},
   "outputs": [],
   "source": [
    "str1 = \"P@#yn26at^&i5ve\""
   ]
  },
  {
   "cell_type": "code",
   "execution_count": 13,
   "id": "516230f4",
   "metadata": {},
   "outputs": [
    {
     "name": "stdout",
     "output_type": "stream",
     "text": [
      "chars = 8 digit = 3 symbol = 4\n"
     ]
    }
   ],
   "source": [
    "letters = []\n",
    "digits = []\n",
    "symbols = []\n",
    "\n",
    "for i in str1:\n",
    "    if i.isdigit():\n",
    "        digits.append(i)\n",
    "    elif i.isalpha():\n",
    "        letters.append(i)\n",
    "    else:\n",
    "        symbols.append(i)\n",
    "\n",
    "print(\"chars =\", len(letters), \"digit =\", len(digits), \"symbol =\", len(symbols))"
   ]
  },
  {
   "cell_type": "code",
   "execution_count": 14,
   "id": "3e7d125c",
   "metadata": {},
   "outputs": [
    {
     "data": {
      "text/plain": [
       "['P', 'y', 'n', 'a', 't', 'i', 'v', 'e']"
      ]
     },
     "execution_count": 14,
     "metadata": {},
     "output_type": "execute_result"
    }
   ],
   "source": [
    "letters"
   ]
  },
  {
   "cell_type": "code",
   "execution_count": 15,
   "id": "69d270ae",
   "metadata": {},
   "outputs": [
    {
     "data": {
      "text/plain": [
       "['2', '6', '5']"
      ]
     },
     "execution_count": 15,
     "metadata": {},
     "output_type": "execute_result"
    }
   ],
   "source": [
    "digits"
   ]
  },
  {
   "cell_type": "code",
   "execution_count": 16,
   "id": "7a5cca4c",
   "metadata": {},
   "outputs": [
    {
     "data": {
      "text/plain": [
       "['@', '#', '^', '&']"
      ]
     },
     "execution_count": 16,
     "metadata": {},
     "output_type": "execute_result"
    }
   ],
   "source": [
    "symbols"
   ]
  },
  {
   "cell_type": "code",
   "execution_count": 17,
   "id": "5b1b113a",
   "metadata": {},
   "outputs": [
    {
     "name": "stdout",
     "output_type": "stream",
     "text": [
      "total counts of chars, Digits, and symbols \n",
      "\n",
      "Chars = 8 Digits = 2 Symbol = 3\n"
     ]
    }
   ],
   "source": [
    "def find_digits_chars_symbols(sample_str):\n",
    "    char_count = 0\n",
    "    digit_count = 0\n",
    "    symbol_count = 0\n",
    "    for char in sample_str:\n",
    "        if char.isalpha():\n",
    "            char_count += 1\n",
    "        elif char.isdigit():\n",
    "            digit_count += 1\n",
    "        # if it is not letter or digit then it is special symbol\n",
    "        else:\n",
    "            symbol_count += 1\n",
    "\n",
    "    print(\"Chars =\", char_count, \"Digits =\", digit_count, \"Symbol =\", symbol_count)\n",
    "\n",
    "sample_str = \"P@yn2at&#i5ve\"\n",
    "print(\"total counts of chars, Digits, and symbols \\n\")\n",
    "find_digits_chars_symbols(sample_str)"
   ]
  },
  {
   "cell_type": "raw",
   "id": "cd56808f",
   "metadata": {},
   "source": [
    "6. Create a mixed String using the following rules\n",
    "Given two strings, s1 and s2. Write a program to create a new string s3 made of the first char of s1, then the last char of s2, Next, the second char of s1 and second last char of s2, and so on. Any leftover chars go at the end of the result."
   ]
  },
  {
   "cell_type": "code",
   "execution_count": 18,
   "id": "70844476",
   "metadata": {},
   "outputs": [],
   "source": [
    "s1 = \"Abc\"\n",
    "s2 = \"Xyz\""
   ]
  },
  {
   "cell_type": "code",
   "execution_count": 19,
   "id": "82c43092",
   "metadata": {},
   "outputs": [
    {
     "data": {
      "text/plain": [
       "'z'"
      ]
     },
     "execution_count": 19,
     "metadata": {},
     "output_type": "execute_result"
    }
   ],
   "source": [
    "s2[-1]"
   ]
  },
  {
   "cell_type": "code",
   "execution_count": 20,
   "id": "e51f41ed",
   "metadata": {},
   "outputs": [
    {
     "name": "stdout",
     "output_type": "stream",
     "text": [
      "Az\n"
     ]
    }
   ],
   "source": [
    "first_char = s1[0] + s2[-1]\n",
    "print(first_char)"
   ]
  },
  {
   "cell_type": "code",
   "execution_count": 21,
   "id": "0803b90e",
   "metadata": {},
   "outputs": [
    {
     "name": "stdout",
     "output_type": "stream",
     "text": [
      "by\n"
     ]
    }
   ],
   "source": [
    "second_char = s1[1] + s2[-2]\n",
    "print(second_char)"
   ]
  },
  {
   "cell_type": "code",
   "execution_count": 22,
   "id": "a51c8901",
   "metadata": {},
   "outputs": [
    {
     "name": "stdout",
     "output_type": "stream",
     "text": [
      "cX\n"
     ]
    }
   ],
   "source": [
    "rest_char = s1[2] + s2[-3]\n",
    "print(rest_char)"
   ]
  },
  {
   "cell_type": "code",
   "execution_count": 23,
   "id": "a92eecec",
   "metadata": {},
   "outputs": [
    {
     "name": "stdout",
     "output_type": "stream",
     "text": [
      "AzbycX\n"
     ]
    }
   ],
   "source": [
    "s3 = (first_char + second_char + rest_char)\n",
    "print(s3)"
   ]
  },
  {
   "cell_type": "code",
   "execution_count": 24,
   "id": "5ec94d72",
   "metadata": {},
   "outputs": [
    {
     "name": "stdout",
     "output_type": "stream",
     "text": [
      "AzbycX\n"
     ]
    }
   ],
   "source": [
    "s1 = \"Abc\"\n",
    "s2 = \"Xyz\"\n",
    "\n",
    "# get string length\n",
    "s1_length = len(s1)\n",
    "s2_length = len(s2)\n",
    "\n",
    "# get length of a bigger string\n",
    "length = s1_length if s1_length > s2_length else s2_length\n",
    "result = \"\"\n",
    "\n",
    "# reverse s2\n",
    "s2 = s2[::-1]\n",
    "\n",
    "# iterate string \n",
    "# s1 ascending and s2 descending\n",
    "for i in range(length):\n",
    "    if i < s1_length:\n",
    "        result = result + s1[i]\n",
    "    if i < s2_length:\n",
    "        result = result + s2[i]\n",
    "\n",
    "print(result)"
   ]
  },
  {
   "cell_type": "raw",
   "id": "49708246",
   "metadata": {},
   "source": [
    "7. String characters balance Test\n",
    "Write a program to check if two strings are balanced. For example, strings s1 and s2 are balanced if all the characters in the s1 are present in s2. The character’s position doesn’t matter."
   ]
  },
  {
   "cell_type": "code",
   "execution_count": 25,
   "id": "337a091a",
   "metadata": {},
   "outputs": [
    {
     "name": "stdout",
     "output_type": "stream",
     "text": [
      "s1 and s2 are balanced: True\n",
      "s1 and s2 are balanced: False\n"
     ]
    }
   ],
   "source": [
    "def string_balance_test(s1, s2):\n",
    "    flag = True\n",
    "    for char in s1:\n",
    "        if char in s2:\n",
    "            continue\n",
    "        else:\n",
    "            flag = False\n",
    "    return flag\n",
    "\n",
    "\n",
    "s1 = \"Yn\"\n",
    "s2 = \"PYnative\"\n",
    "flag = string_balance_test(s1, s2)\n",
    "print(\"s1 and s2 are balanced:\", flag)\n",
    "\n",
    "s1 = \"Ynf\"\n",
    "s2 = \"PYnative\"\n",
    "flag = string_balance_test(s1, s2)\n",
    "print(\"s1 and s2 are balanced:\", flag)"
   ]
  },
  {
   "cell_type": "raw",
   "id": "a75d1d2b",
   "metadata": {},
   "source": [
    "8. Find all occurrences of a substring in a given string by ignoring the case"
   ]
  },
  {
   "cell_type": "code",
   "execution_count": 26,
   "id": "bde6746d",
   "metadata": {},
   "outputs": [
    {
     "name": "stdout",
     "output_type": "stream",
     "text": [
      "USA count is : 2\n"
     ]
    }
   ],
   "source": [
    "str1 = \"Welcome to USA. usa awesome, isn't it?\"\n",
    "\n",
    "str2 = \"usa\"\n",
    "lowerd = str1.lower()\n",
    "\n",
    "count = lowerd.count(str2)\n",
    "print(\"USA count is :\", count)"
   ]
  },
  {
   "cell_type": "raw",
   "id": "0e0b59f0",
   "metadata": {},
   "source": [
    "9. Calculate the sum and average of the digits present in a string"
   ]
  },
  {
   "cell_type": "code",
   "execution_count": 27,
   "id": "d24be033",
   "metadata": {},
   "outputs": [
    {
     "name": "stdout",
     "output_type": "stream",
     "text": [
      "Sum is: 38 Average is  6.333333333333333\n"
     ]
    }
   ],
   "source": [
    "input_str = \"PYnative29@#8496\"\n",
    "total = 0\n",
    "cnt = 0\n",
    "for char in input_str:\n",
    "    if char.isdigit():\n",
    "        total += int(char)\n",
    "        cnt += 1\n",
    "\n",
    "# average = sum / count of digits\n",
    "avg = total / cnt\n",
    "print(\"Sum is:\", total, \"Average is \", avg)"
   ]
  },
  {
   "cell_type": "code",
   "execution_count": 28,
   "id": "2daa076a",
   "metadata": {},
   "outputs": [
    {
     "name": "stdout",
     "output_type": "stream",
     "text": [
      "Digits: [2, 9, 8, 4, 9, 6]\n",
      "Sum is: 38 Average is  6.333333333333333\n"
     ]
    }
   ],
   "source": [
    "import re\n",
    "\n",
    "input_str = \"PYnative29@#8496\"\n",
    "digit_list = [int(num) for num in re.findall(r'\\d', input_str)]\n",
    "print('Digits:', digit_list)\n",
    "\n",
    "# use the built-in function sum\n",
    "total = sum(digit_list)\n",
    "\n",
    "# average = sum / count of digits\n",
    "avg = total / len(digit_list)\n",
    "print(\"Sum is:\", total, \"Average is \", avg)"
   ]
  },
  {
   "cell_type": "raw",
   "id": "080d8f1e",
   "metadata": {},
   "source": [
    "10. Write a program to count occurrences of all characters within a string"
   ]
  },
  {
   "cell_type": "code",
   "execution_count": 29,
   "id": "74ddab08",
   "metadata": {},
   "outputs": [
    {
     "name": "stdout",
     "output_type": "stream",
     "text": [
      "Result: {'A': 1, 'p': 2, 'l': 1, 'e': 1}\n"
     ]
    }
   ],
   "source": [
    "str1 = \"Apple\"\n",
    "\n",
    "# create a result dictionary\n",
    "char_dict = dict()\n",
    "\n",
    "for char in str1:\n",
    "    count = str1.count(char)\n",
    "    # add / update the count of a character\n",
    "    char_dict[char] = count\n",
    "print('Result:', char_dict)    "
   ]
  },
  {
   "cell_type": "code",
   "execution_count": 30,
   "id": "ccc224bb",
   "metadata": {},
   "outputs": [
    {
     "name": "stdout",
     "output_type": "stream",
     "text": [
      "{'A': 1}\n",
      "{'A': 1, 'p': 2}\n",
      "{'A': 1, 'p': 2}\n",
      "{'A': 1, 'p': 2, 'l': 1}\n",
      "{'A': 1, 'p': 2, 'l': 1, 'e': 1}\n"
     ]
    }
   ],
   "source": [
    "str1 = \"Apple\"\n",
    "\n",
    "char_dict = dict()\n",
    "\n",
    "for i in str1:\n",
    "    count = str1.count(i)\n",
    "#     print(count)\n",
    "    char_dict[i] = count\n",
    "    print(char_dict)"
   ]
  },
  {
   "cell_type": "code",
   "execution_count": 31,
   "id": "3d2290a4",
   "metadata": {},
   "outputs": [
    {
     "name": "stdout",
     "output_type": "stream",
     "text": [
      "Character occurrences:\n",
      "a: 1\n",
      "p: 2\n",
      "l: 1\n",
      "e: 1\n"
     ]
    }
   ],
   "source": [
    "input_string = \"apple\"\n",
    "character_counts = {}\n",
    "\n",
    "for char in input_string:\n",
    "    character_counts[char] = character_counts.get(char, 0) + 1\n",
    "\n",
    "print(\"Character occurrences:\")\n",
    "for char, count in character_counts.items():\n",
    "    print(f\"{char}: {count}\")"
   ]
  },
  {
   "cell_type": "raw",
   "id": "27628277",
   "metadata": {},
   "source": [
    "11. Reverse a given string"
   ]
  },
  {
   "cell_type": "code",
   "execution_count": 32,
   "id": "531f4f96",
   "metadata": {},
   "outputs": [
    {
     "data": {
      "text/plain": [
       "'evitanYP'"
      ]
     },
     "execution_count": 32,
     "metadata": {},
     "output_type": "execute_result"
    }
   ],
   "source": [
    "str1 = \"PYnative\"\n",
    "str1[::-1]"
   ]
  },
  {
   "cell_type": "code",
   "execution_count": 33,
   "id": "96a17645",
   "metadata": {},
   "outputs": [
    {
     "name": "stdout",
     "output_type": "stream",
     "text": [
      "evitanYP\n"
     ]
    }
   ],
   "source": [
    "str1 = \"PYnative\"\n",
    "\n",
    "str = \"\".join(reversed(str1))\n",
    "print(str)"
   ]
  },
  {
   "cell_type": "raw",
   "id": "1399c220",
   "metadata": {},
   "source": [
    "12. Find the last position of a given substring\n",
    "Write a program to find the last position of a substring “Emma” in a given string."
   ]
  },
  {
   "cell_type": "code",
   "execution_count": 34,
   "id": "e20b66d5",
   "metadata": {},
   "outputs": [
    {
     "name": "stdout",
     "output_type": "stream",
     "text": [
      "43\n"
     ]
    }
   ],
   "source": [
    "str1 = \"Emma is a data scientist who knows Python. Emma works at google.\"\n",
    "\n",
    "s = str1.rfind(\"Emma\")\n",
    "print(s)"
   ]
  },
  {
   "cell_type": "raw",
   "id": "6c48ecd4",
   "metadata": {},
   "source": [
    "13. Split a string on hyphens\n",
    "Write a program to split a given string on hyphens and display each substring."
   ]
  },
  {
   "cell_type": "code",
   "execution_count": 35,
   "id": "9f2ac86a",
   "metadata": {},
   "outputs": [
    {
     "name": "stdout",
     "output_type": "stream",
     "text": [
      "['Emma', 'is', 'a', 'data', 'scientist']\n",
      "<class 'list'>\n"
     ]
    }
   ],
   "source": [
    "str1 = \"Emma-is-a-data-scientist\"\n",
    "\n",
    "s = str1.split(\"-\")\n",
    "print(s)\n",
    "print(type(s))"
   ]
  },
  {
   "cell_type": "raw",
   "id": "7b99ef2f",
   "metadata": {},
   "source": [
    "14. Remove empty strings from a list of strings"
   ]
  },
  {
   "cell_type": "code",
   "execution_count": 41,
   "id": "77048e2b",
   "metadata": {},
   "outputs": [],
   "source": [
    "str_list = [\"Emma\", \"Jon\", \"\", \"Kelly\", None, \"Eric\", \"\"]\n",
    "\n",
    "for i in str_list:\n",
    "    if \"\" in str_list:\n",
    "        str_list.remove(\"\")"
   ]
  },
  {
   "cell_type": "code",
   "execution_count": 37,
   "id": "fcb2fc20",
   "metadata": {},
   "outputs": [
    {
     "data": {
      "text/plain": [
       "['Emma', 'Jon', 'Kelly', None, 'Eric']"
      ]
     },
     "execution_count": 37,
     "metadata": {},
     "output_type": "execute_result"
    }
   ],
   "source": [
    "str_list"
   ]
  },
  {
   "cell_type": "code",
   "execution_count": 38,
   "id": "08f4b9d8",
   "metadata": {},
   "outputs": [
    {
     "name": "stdout",
     "output_type": "stream",
     "text": [
      "['Emma', 'Jon', 'Kelly', 'Eric']\n"
     ]
    }
   ],
   "source": [
    "str_list = [\"Emma\", \"Jon\", \"\", \"Kelly\", None, \"Eric\", \"\"]\n",
    "res_list = []\n",
    "for s in str_list:\n",
    "    # check for non empty string\n",
    "    if s:\n",
    "        res_list.append(s)\n",
    "print(res_list)"
   ]
  },
  {
   "cell_type": "code",
   "execution_count": 39,
   "id": "2b960e17",
   "metadata": {},
   "outputs": [
    {
     "name": "stdout",
     "output_type": "stream",
     "text": [
      "After removing empty strings\n",
      "['Emma', 'Jon', 'Kelly', 'Eric']\n"
     ]
    }
   ],
   "source": [
    "str_list = [\"Emma\", \"Jon\", \"\", \"Kelly\", None, \"Eric\", \"\"]\n",
    "\n",
    "# use built-in function filter to filter empty value\n",
    "new_str_list = list(filter(None, str_list))\n",
    "\n",
    "print(\"After removing empty strings\")\n",
    "print(new_str_list)"
   ]
  },
  {
   "cell_type": "raw",
   "id": "5b99171e",
   "metadata": {},
   "source": [
    "15. Remove special symbols / punctuation from a string"
   ]
  },
  {
   "cell_type": "code",
   "execution_count": 97,
   "id": "a2f441b2",
   "metadata": {
    "scrolled": true
   },
   "outputs": [
    {
     "name": "stdout",
     "output_type": "stream",
     "text": [
      "Jon is developer  musician\n"
     ]
    }
   ],
   "source": [
    "import string\n",
    "\n",
    "str = \"/*Jon is @developer & musician\"\n",
    "cleaned_string = ''.join(filter(lambda x: x.isalnum() or x.isspace(), str))\n",
    "print(cleaned_string)"
   ]
  },
  {
   "cell_type": "code",
   "execution_count": 68,
   "id": "d1a00802",
   "metadata": {},
   "outputs": [
    {
     "name": "stdout",
     "output_type": "stream",
     "text": [
      "Jon is developer  musician\n"
     ]
    }
   ],
   "source": [
    "import string\n",
    "\n",
    "str = \"/*Jon is @developer & musician\"\n",
    "translator = str.maketrans('', '', string.punctuation)\n",
    "cleaned_string = str.translate(translator)\n",
    "print(cleaned_string)"
   ]
  },
  {
   "cell_type": "code",
   "execution_count": 65,
   "id": "4faf7d81",
   "metadata": {},
   "outputs": [
    {
     "name": "stdout",
     "output_type": "stream",
     "text": [
      "Jon is developer  musician\n"
     ]
    }
   ],
   "source": [
    "import string\n",
    "\n",
    "str = \"/*Jon is @developer & musician\"\n",
    "cleaned_string = ''.join(char for char in str if char not in string.punctuation)\n",
    "print(cleaned_string)"
   ]
  },
  {
   "cell_type": "raw",
   "id": "ceffc1d6",
   "metadata": {},
   "source": [
    "16. Removal all characters from a string except integers"
   ]
  },
  {
   "cell_type": "code",
   "execution_count": 78,
   "id": "57902dc4",
   "metadata": {},
   "outputs": [
    {
     "name": "stdout",
     "output_type": "stream",
     "text": [
      "2510"
     ]
    }
   ],
   "source": [
    "str1 = 'I am 25 years and 10 months old'\n",
    "\n",
    "for i in str1:\n",
    "    if i.isdigit():\n",
    "        print(i, end=\"\")"
   ]
  },
  {
   "cell_type": "code",
   "execution_count": 82,
   "id": "d24f7dea",
   "metadata": {},
   "outputs": [
    {
     "name": "stdout",
     "output_type": "stream",
     "text": [
      "Original strings : I am 25 years and 10 months old\n",
      "2510\n"
     ]
    }
   ],
   "source": [
    "str1 = 'I am 25 years and 10 months old'\n",
    "print(\"Original strings :\", str1)\n",
    "\n",
    "# Retain Numbers in String\n",
    "# Using list comprehension + join() + isdigit()\n",
    "res = \"\".join([item for item in str1 if item.isdigit()])\n",
    "\n",
    "print(res)"
   ]
  },
  {
   "cell_type": "raw",
   "id": "7af94568",
   "metadata": {},
   "source": [
    "17. Find words with both alphabets and numbers\n",
    "Write a program to find words with both alphabets and numbers from an input string."
   ]
  },
  {
   "cell_type": "code",
   "execution_count": 93,
   "id": "18c0b510",
   "metadata": {},
   "outputs": [
    {
     "name": "stdout",
     "output_type": "stream",
     "text": [
      "The original string is : Emma25 is Data scientist50 and AI Expert\n",
      "Displaying words with alphabets and numbers :\n",
      "Emma25\n",
      "scientist50\n"
     ]
    }
   ],
   "source": [
    "str1 = \"Emma25 is Data scientist50 and AI Expert\"\n",
    "print(\"The original string is : \" + str1)\n",
    "\n",
    "res = []\n",
    "# split string on whitespace\n",
    "temp = str1.split()\n",
    "\n",
    "# Words with both alphabets and numbers\n",
    "# isdigit() for numbers + isalpha() for alphabets\n",
    "# use any() to check each character\n",
    "\n",
    "for item in temp:\n",
    "    if any(char.isalpha() for char in item) and any(char.isdigit() for char in item):\n",
    "        res.append(item)\n",
    "\n",
    "print(\"Displaying words with alphabets and numbers :\")\n",
    "for i in res:\n",
    "    print(i)"
   ]
  },
  {
   "cell_type": "code",
   "execution_count": 94,
   "id": "917bf500",
   "metadata": {},
   "outputs": [
    {
     "name": "stdout",
     "output_type": "stream",
     "text": [
      "['Emma25', 'scientist50']\n"
     ]
    }
   ],
   "source": [
    "input_string = \"Emma25 is Data scientist50 and AI Expert\"\n",
    "words = input_string.split()\n",
    "words_with_alphabets_and_numbers = [word for word in words if any(c.isalpha() for c in word) and any(c.isdigit() for c in word)]\n",
    "print(words_with_alphabets_and_numbers)"
   ]
  },
  {
   "cell_type": "raw",
   "id": "a66b3ae7",
   "metadata": {},
   "source": [
    "18. Replace each special symbol with # in the following string"
   ]
  },
  {
   "cell_type": "code",
   "execution_count": 99,
   "id": "4f7b2e3e",
   "metadata": {},
   "outputs": [
    {
     "name": "stdout",
     "output_type": "stream",
     "text": [
      "The original string is :  /*Jon is @developer & musician!!\n",
      "The strings after replacement :  ##Jon is #developer # musician##\n"
     ]
    }
   ],
   "source": [
    "import string\n",
    "\n",
    "str1 = '/*Jon is @developer & musician!!'\n",
    "print(\"The original string is : \", str1)\n",
    "\n",
    "# Replace punctuations with #\n",
    "replace_char = '#'\n",
    "\n",
    "# string.punctuation to get the list of all special symbols\n",
    "for char in string.punctuation:\n",
    "    str1 = str1.replace(char, replace_char)\n",
    "\n",
    "print(\"The strings after replacement : \", str1)"
   ]
  }
 ],
 "metadata": {
  "kernelspec": {
   "display_name": "Python 3 (ipykernel)",
   "language": "python",
   "name": "python3"
  },
  "language_info": {
   "codemirror_mode": {
    "name": "ipython",
    "version": 3
   },
   "file_extension": ".py",
   "mimetype": "text/x-python",
   "name": "python",
   "nbconvert_exporter": "python",
   "pygments_lexer": "ipython3",
   "version": "3.8.8"
  }
 },
 "nbformat": 4,
 "nbformat_minor": 5
}
