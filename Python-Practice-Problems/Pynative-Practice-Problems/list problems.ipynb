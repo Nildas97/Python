{
 "cells": [
  {
   "cell_type": "raw",
   "id": "df04e435",
   "metadata": {},
   "source": [
    "1. Reverse a list in Python"
   ]
  },
  {
   "cell_type": "code",
   "execution_count": 221,
   "id": "b37bd9a2",
   "metadata": {},
   "outputs": [],
   "source": [
    "list1 = [100, 200, 300, 400, 500]\n",
    "\n",
    "list1.reverse()"
   ]
  },
  {
   "cell_type": "code",
   "execution_count": 222,
   "id": "59b74a10",
   "metadata": {},
   "outputs": [
    {
     "data": {
      "text/plain": [
       "[500, 400, 300, 200, 100]"
      ]
     },
     "execution_count": 222,
     "metadata": {},
     "output_type": "execute_result"
    }
   ],
   "source": [
    "list1"
   ]
  },
  {
   "cell_type": "raw",
   "id": "9bcd3d0d",
   "metadata": {},
   "source": [
    "2. Concatenate two lists index-wise"
   ]
  },
  {
   "cell_type": "code",
   "execution_count": 44,
   "id": "9884a3c2",
   "metadata": {},
   "outputs": [],
   "source": [
    "list1 = [\"M\", \"na\", \"i\", \"Ke\"]\n",
    "list2 = [\"y\", \"me\", \"s\", \"lly\"]"
   ]
  },
  {
   "cell_type": "code",
   "execution_count": 226,
   "id": "f36bbcbc",
   "metadata": {
    "scrolled": true
   },
   "outputs": [
    {
     "name": "stdout",
     "output_type": "stream",
     "text": [
      "['My', 'name', 'is', 'Kelly']\n"
     ]
    }
   ],
   "source": [
    "list1 = [\"M\", \"na\", \"i\", \"Ke\"]\n",
    "list2 = [\"y\", \"me\", \"s\", \"lly\"]\n",
    "\n",
    "concatenated_list = [list1[i] + list2[i] for i in range(len(list1))]\n",
    "print(concatenated_list)"
   ]
  },
  {
   "cell_type": "raw",
   "id": "a091f2e7",
   "metadata": {},
   "source": [
    "3. Turn every item of a list into its square"
   ]
  },
  {
   "cell_type": "code",
   "execution_count": 12,
   "id": "4501e2ae",
   "metadata": {},
   "outputs": [],
   "source": [
    "numbers = [1, 2, 3, 4, 5, 6, 7]"
   ]
  },
  {
   "cell_type": "code",
   "execution_count": 15,
   "id": "0659a602",
   "metadata": {},
   "outputs": [
    {
     "name": "stdout",
     "output_type": "stream",
     "text": [
      "1 4 9 16 25 36 49 "
     ]
    }
   ],
   "source": [
    "for i in numbers:\n",
    "    print(i**2, end=\" \")"
   ]
  },
  {
   "cell_type": "raw",
   "id": "8726c7a0",
   "metadata": {},
   "source": [
    "4. Concatenate two lists in the following order"
   ]
  },
  {
   "cell_type": "code",
   "execution_count": 48,
   "id": "a6a9649f",
   "metadata": {
    "scrolled": true
   },
   "outputs": [
    {
     "name": "stdout",
     "output_type": "stream",
     "text": [
      "['Hello Dear', 'Hello Sir', 'take Dear', 'take Sir']\n"
     ]
    }
   ],
   "source": [
    "list1 = [\"Hello \", \"take \"]\n",
    "list2 = [\"Dear\", \"Sir\"]\n",
    "\n",
    "res = [x + y for x in list1 for y in list2]\n",
    "print(res)"
   ]
  },
  {
   "cell_type": "code",
   "execution_count": 42,
   "id": "c59a8bf9",
   "metadata": {},
   "outputs": [
    {
     "data": {
      "text/plain": [
       "['Hello take ', 'DearSir']"
      ]
     },
     "execution_count": 42,
     "metadata": {},
     "output_type": "execute_result"
    }
   ],
   "source": [
    "list"
   ]
  },
  {
   "cell_type": "raw",
   "id": "b5246c9a",
   "metadata": {},
   "source": [
    "5. Iterate both lists simultaneously"
   ]
  },
  {
   "cell_type": "code",
   "execution_count": 82,
   "id": "b2c91038",
   "metadata": {},
   "outputs": [
    {
     "name": "stdout",
     "output_type": "stream",
     "text": [
      "10 100\n",
      "20 200\n",
      "30 300\n",
      "40 400\n"
     ]
    }
   ],
   "source": [
    "list1 = [10, 20, 30, 40]\n",
    "list2 = [100, 200, 300, 400]\n",
    "\n",
    "list1 = [10, 20, 30, 40]\n",
    "list2 = [100, 200, 300, 400]\n",
    "\n",
    "for num1, num2 in zip(list1, list2):\n",
    "    print(num1, num2)"
   ]
  },
  {
   "cell_type": "code",
   "execution_count": 83,
   "id": "857900ab",
   "metadata": {},
   "outputs": [
    {
     "name": "stdout",
     "output_type": "stream",
     "text": [
      "10 400\n",
      "20 300\n",
      "30 200\n",
      "40 100\n"
     ]
    }
   ],
   "source": [
    "list1 = [10, 20, 30, 40]\n",
    "list2 = [100, 200, 300, 400]\n",
    "\n",
    "for num1, num2 in zip(list1, reversed(list2)):\n",
    "    print(num1, num2)\n"
   ]
  },
  {
   "cell_type": "raw",
   "id": "ef58128c",
   "metadata": {},
   "source": [
    "6. Remove empty strings from the list of strings"
   ]
  },
  {
   "cell_type": "code",
   "execution_count": 96,
   "id": "b9fcf47d",
   "metadata": {},
   "outputs": [],
   "source": [
    "list1 = [\"Mike\", \"\", \"Emma\", \"Kelly\", \"\", \"Brad\"]\n",
    "\n",
    "list = []\n",
    "for i in list1:\n",
    "    if i != \"\":\n",
    "        list.append(i)"
   ]
  },
  {
   "cell_type": "code",
   "execution_count": 97,
   "id": "ec83913c",
   "metadata": {},
   "outputs": [
    {
     "data": {
      "text/plain": [
       "['Mike', 'Emma', 'Kelly', 'Brad']"
      ]
     },
     "execution_count": 97,
     "metadata": {},
     "output_type": "execute_result"
    }
   ],
   "source": [
    "list"
   ]
  },
  {
   "cell_type": "code",
   "execution_count": 98,
   "id": "34042d73",
   "metadata": {},
   "outputs": [
    {
     "name": "stdout",
     "output_type": "stream",
     "text": [
      "['Mike', 'Emma', 'Kelly', 'Brad']\n"
     ]
    }
   ],
   "source": [
    "list1 = [\"Mike\", \"\", \"Emma\", \"Kelly\", \"\", \"Brad\"]\n",
    "non_empty_list = [string for string in list1 if string != \"\"]\n",
    "print(non_empty_list)"
   ]
  },
  {
   "cell_type": "raw",
   "id": "424297a3",
   "metadata": {},
   "source": [
    "7. Add new item to list after a specified item"
   ]
  },
  {
   "cell_type": "code",
   "execution_count": 116,
   "id": "5d1bc6b9",
   "metadata": {},
   "outputs": [],
   "source": [
    "list1 = [10, 20, [300, 400, [5000, 6000], 500], 30, 40]"
   ]
  },
  {
   "cell_type": "code",
   "execution_count": 135,
   "id": "cc48cfaa",
   "metadata": {},
   "outputs": [],
   "source": [
    "list1[2][2].append(7000)"
   ]
  },
  {
   "cell_type": "code",
   "execution_count": 136,
   "id": "0ff91211",
   "metadata": {},
   "outputs": [
    {
     "data": {
      "text/plain": [
       "[10, 20, [300, 400, [5000, 6000, 7000], 500], 30, 40]"
      ]
     },
     "execution_count": 136,
     "metadata": {},
     "output_type": "execute_result"
    }
   ],
   "source": [
    "list1"
   ]
  },
  {
   "cell_type": "raw",
   "id": "a5d32d8a",
   "metadata": {},
   "source": [
    "8. Extend nested list by adding the sublist"
   ]
  },
  {
   "cell_type": "code",
   "execution_count": 141,
   "id": "44818bcd",
   "metadata": {},
   "outputs": [],
   "source": [
    "list1 = [\"a\", \"b\", [\"c\", [\"d\", \"e\", [\"f\", \"g\"], \"k\"], \"l\"], \"m\", \"n\"]\n",
    "\n",
    "# sub list to add\n",
    "sub_list = [\"h\", \"i\", \"j\"]"
   ]
  },
  {
   "cell_type": "code",
   "execution_count": 149,
   "id": "3bedff2e",
   "metadata": {},
   "outputs": [],
   "source": [
    "list1[2][1][2].extend(sub_list)"
   ]
  },
  {
   "cell_type": "code",
   "execution_count": 150,
   "id": "c3f43fe2",
   "metadata": {},
   "outputs": [
    {
     "data": {
      "text/plain": [
       "['a', 'b', ['c', ['d', 'e', ['f', 'g', 'h', 'i', 'j'], 'k'], 'l'], 'm', 'n']"
      ]
     },
     "execution_count": 150,
     "metadata": {},
     "output_type": "execute_result"
    }
   ],
   "source": [
    "list1"
   ]
  },
  {
   "cell_type": "raw",
   "id": "29bcf2bf",
   "metadata": {},
   "source": [
    "9. Replace list’s item with new value if found"
   ]
  },
  {
   "cell_type": "code",
   "execution_count": 189,
   "id": "ce329d39",
   "metadata": {},
   "outputs": [],
   "source": [
    "list1 = [5, 10, 15, 20, 25, 50, 20]"
   ]
  },
  {
   "cell_type": "code",
   "execution_count": 190,
   "id": "4758f5bb",
   "metadata": {},
   "outputs": [],
   "source": [
    "for i in list1:\n",
    "    if list1.index(i) == 3:\n",
    "        list1.remove(20)\n",
    "        list1.insert(3,200)"
   ]
  },
  {
   "cell_type": "code",
   "execution_count": 191,
   "id": "b01e4260",
   "metadata": {},
   "outputs": [
    {
     "data": {
      "text/plain": [
       "[5, 10, 15, 200, 25, 50, 20]"
      ]
     },
     "execution_count": 191,
     "metadata": {},
     "output_type": "execute_result"
    }
   ],
   "source": [
    "list1"
   ]
  },
  {
   "cell_type": "code",
   "execution_count": 193,
   "id": "040fecb3",
   "metadata": {},
   "outputs": [
    {
     "name": "stdout",
     "output_type": "stream",
     "text": [
      "[5, 10, 15, 200, 25, 50, 20]\n"
     ]
    }
   ],
   "source": [
    "list1 = [5, 10, 15, 20, 25, 50, 20]\n",
    "\n",
    "# get the first occurrence index\n",
    "index = list1.index(20)\n",
    "\n",
    "# update item present at location\n",
    "list1[index] = 200\n",
    "print(list1)"
   ]
  },
  {
   "cell_type": "raw",
   "id": "7ad262a0",
   "metadata": {},
   "source": [
    "10. Remove all occurrences of a specific item from a list."
   ]
  },
  {
   "cell_type": "code",
   "execution_count": 216,
   "id": "aa768e10",
   "metadata": {},
   "outputs": [],
   "source": [
    "list1 = [5, 20, 15, 20, 25, 50, 20]\n",
    "\n",
    "for i in list1:\n",
    "    if list1.count(20):\n",
    "        list1.remove(20)"
   ]
  },
  {
   "cell_type": "code",
   "execution_count": 217,
   "id": "d8611c56",
   "metadata": {},
   "outputs": [
    {
     "data": {
      "text/plain": [
       "[5, 15, 25, 50]"
      ]
     },
     "execution_count": 217,
     "metadata": {},
     "output_type": "execute_result"
    }
   ],
   "source": [
    "list1"
   ]
  },
  {
   "cell_type": "code",
   "execution_count": 215,
   "id": "2291c839",
   "metadata": {},
   "outputs": [
    {
     "name": "stdout",
     "output_type": "stream",
     "text": [
      "[5, 15, 25, 50]\n"
     ]
    }
   ],
   "source": [
    "list1 = [5, 20, 15, 20, 25, 50, 20]\n",
    "\n",
    "# list comprehension\n",
    "# remove specific items and return a new list\n",
    "def remove_value(sample_list, val):\n",
    "    return [i for i in sample_list if i != val]\n",
    "\n",
    "res = remove_value(list1, 20)\n",
    "print(res)"
   ]
  },
  {
   "cell_type": "code",
   "execution_count": 218,
   "id": "2aaab2cd",
   "metadata": {},
   "outputs": [
    {
     "name": "stdout",
     "output_type": "stream",
     "text": [
      "[5, 15, 25, 50]\n"
     ]
    }
   ],
   "source": [
    "list1 = [5, 20, 15, 20, 25, 50, 20]\n",
    "\n",
    "while 20 in list1:\n",
    "    list1.remove(20)\n",
    "print(list1)"
   ]
  }
 ],
 "metadata": {
  "kernelspec": {
   "display_name": "Python 3 (ipykernel)",
   "language": "python",
   "name": "python3"
  },
  "language_info": {
   "codemirror_mode": {
    "name": "ipython",
    "version": 3
   },
   "file_extension": ".py",
   "mimetype": "text/x-python",
   "name": "python",
   "nbconvert_exporter": "python",
   "pygments_lexer": "ipython3",
   "version": "3.8.8"
  }
 },
 "nbformat": 4,
 "nbformat_minor": 5
}
